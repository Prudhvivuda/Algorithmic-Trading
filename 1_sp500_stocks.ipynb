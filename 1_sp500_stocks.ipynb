{
 "cells": [
  {
   "cell_type": "markdown",
   "metadata": {},
   "source": [
    "# Equal-Weight S&P 500 Index Fund"
   ]
  },
  {
   "cell_type": "markdown",
   "metadata": {},
   "source": [
    "## Introduction"
   ]
  },
  {
   "cell_type": "markdown",
   "metadata": {},
   "source": [
    "The goal of this Notebook is to evenly distribute the investment across a list of stocks, so that you can determine how many shares of each stock you can buy with your allocated amount per stock.\n",
    "\n",
    "By evenly distributing your total investment and calculating how many shares you can buy with each allocation, you manage your investment risk and ensure a diversified portfolio."
   ]
  },
  {
   "cell_type": "markdown",
   "metadata": {},
   "source": [
    "## Installing and importing required libraries"
   ]
  },
  {
   "cell_type": "code",
   "execution_count": 44,
   "metadata": {},
   "outputs": [],
   "source": [
    "# pip install yfinance"
   ]
  },
  {
   "cell_type": "code",
   "execution_count": 45,
   "metadata": {},
   "outputs": [],
   "source": [
    "import yfinance as yf\n",
    "import pandas as pd\n",
    "import numpy as np"
   ]
  },
  {
   "cell_type": "markdown",
   "metadata": {},
   "source": [
    "## Load the list of SP500 stocks list"
   ]
  },
  {
   "cell_type": "markdown",
   "metadata": {},
   "source": [
    "Here, I downloaded it fromt the internet. We can also do web scrpaing to get the data from any page."
   ]
  },
  {
   "cell_type": "code",
   "execution_count": 46,
   "metadata": {},
   "outputs": [],
   "source": [
    "# Load the S&P 500 stock symbols from the CSV file\n",
    "sp500_stocks = pd.read_csv('sp_500_stocks.csv')"
   ]
  },
  {
   "cell_type": "markdown",
   "metadata": {},
   "source": [
    "## Get the stock data for the SP500 list"
   ]
  },
  {
   "cell_type": "markdown",
   "metadata": {},
   "source": [
    "Use the yfinance python library to get the required data."
   ]
  },
  {
   "cell_type": "code",
   "execution_count": 47,
   "metadata": {},
   "outputs": [
    {
     "name": "stderr",
     "output_type": "stream",
     "text": [
      "404 Client Error: Not Found for url: https://query2.finance.yahoo.com/v10/finance/quoteSummary/ABC?modules=financialData%2CquoteType%2CdefaultKeyStatistics%2CassetProfile%2CsummaryDetail&corsDomain=finance.yahoo.com&formatted=false&symbol=ABC&crumb=eaz4RUsjmKr\n",
      "404 Client Error: Not Found for url: https://query2.finance.yahoo.com/v10/finance/quoteSummary/ABMD?modules=financialData%2CquoteType%2CdefaultKeyStatistics%2CassetProfile%2CsummaryDetail&corsDomain=finance.yahoo.com&formatted=false&symbol=ABMD&crumb=eaz4RUsjmKr\n",
      "404 Client Error: Not Found for url: https://query2.finance.yahoo.com/v10/finance/quoteSummary/ATVI?modules=financialData%2CquoteType%2CdefaultKeyStatistics%2CassetProfile%2CsummaryDetail&corsDomain=finance.yahoo.com&formatted=false&symbol=ATVI&crumb=eaz4RUsjmKr\n",
      "404 Client Error: Not Found for url: https://query2.finance.yahoo.com/v10/finance/quoteSummary/DISH?modules=financialData%2CquoteType%2CdefaultKeyStatistics%2CassetProfile%2CsummaryDetail&corsDomain=finance.yahoo.com&formatted=false&symbol=DISH&crumb=eaz4RUsjmKr\n",
      "404 Client Error: Not Found for url: https://query2.finance.yahoo.com/v10/finance/quoteSummary/FLT?modules=financialData%2CquoteType%2CdefaultKeyStatistics%2CassetProfile%2CsummaryDetail&corsDomain=finance.yahoo.com&formatted=false&symbol=FLT&crumb=eaz4RUsjmKr\n",
      "404 Client Error: Not Found for url: https://query2.finance.yahoo.com/v10/finance/quoteSummary/PEAK?modules=financialData%2CquoteType%2CdefaultKeyStatistics%2CassetProfile%2CsummaryDetail&corsDomain=finance.yahoo.com&formatted=false&symbol=PEAK&crumb=eaz4RUsjmKr\n",
      "404 Client Error: Not Found for url: https://query2.finance.yahoo.com/v10/finance/quoteSummary/PXD?modules=financialData%2CquoteType%2CdefaultKeyStatistics%2CassetProfile%2CsummaryDetail&corsDomain=finance.yahoo.com&formatted=false&symbol=PXD&crumb=eaz4RUsjmKr\n",
      "404 Client Error: Not Found for url: https://query2.finance.yahoo.com/v10/finance/quoteSummary/RE?modules=financialData%2CquoteType%2CdefaultKeyStatistics%2CassetProfile%2CsummaryDetail&corsDomain=finance.yahoo.com&formatted=false&symbol=RE&crumb=eaz4RUsjmKr\n"
     ]
    }
   ],
   "source": [
    "# Initialize an empty list to store the results\n",
    "data = []\n",
    "\n",
    "# Iterate through each stock symbol in the CSV file\n",
    "for symbol in sp500_stocks['Ticker']:\n",
    "    try:\n",
    "        # Fetch the stock data using yfinance\n",
    "        stock = yf.Ticker(symbol)\n",
    "        stock_info = stock.info\n",
    "\n",
    "        # Get the stock price and market cap\n",
    "        stock_price = stock_info.get('currentPrice', None)\n",
    "        market_cap = stock_info.get('marketCap', None)\n",
    "\n",
    "        # Append the data to the list\n",
    "        data.append([symbol, stock_price, market_cap, 0])\n",
    "\n",
    "    except Exception as e:\n",
    "        print(f\"Failed to get data for {symbol}: {e}\")\n",
    "        data.append([symbol, None, None, 0])\n",
    "\n",
    "# Create a DataFrame from the collected data\n",
    "data = pd.DataFrame(data, columns=['Ticker', 'Stock Price', 'Market Capitalization', 'Stocks to Buy'])"
   ]
  },
  {
   "cell_type": "code",
   "execution_count": 48,
   "metadata": {},
   "outputs": [
    {
     "data": {
      "text/html": [
       "<div>\n",
       "<style scoped>\n",
       "    .dataframe tbody tr th:only-of-type {\n",
       "        vertical-align: middle;\n",
       "    }\n",
       "\n",
       "    .dataframe tbody tr th {\n",
       "        vertical-align: top;\n",
       "    }\n",
       "\n",
       "    .dataframe thead th {\n",
       "        text-align: right;\n",
       "    }\n",
       "</style>\n",
       "<table border=\"1\" class=\"dataframe\">\n",
       "  <thead>\n",
       "    <tr style=\"text-align: right;\">\n",
       "      <th></th>\n",
       "      <th>Ticker</th>\n",
       "      <th>Stock Price</th>\n",
       "      <th>Market Capitalization</th>\n",
       "      <th>Stocks to Buy</th>\n",
       "    </tr>\n",
       "  </thead>\n",
       "  <tbody>\n",
       "    <tr>\n",
       "      <th>0</th>\n",
       "      <td>A</td>\n",
       "      <td>136.90</td>\n",
       "      <td>3.994208e+10</td>\n",
       "      <td>0</td>\n",
       "    </tr>\n",
       "    <tr>\n",
       "      <th>1</th>\n",
       "      <td>AAL</td>\n",
       "      <td>9.86</td>\n",
       "      <td>6.475101e+09</td>\n",
       "      <td>0</td>\n",
       "    </tr>\n",
       "    <tr>\n",
       "      <th>2</th>\n",
       "      <td>AAP</td>\n",
       "      <td>60.21</td>\n",
       "      <td>3.589859e+09</td>\n",
       "      <td>0</td>\n",
       "    </tr>\n",
       "    <tr>\n",
       "      <th>3</th>\n",
       "      <td>AAPL</td>\n",
       "      <td>216.24</td>\n",
       "      <td>3.287735e+12</td>\n",
       "      <td>0</td>\n",
       "    </tr>\n",
       "    <tr>\n",
       "      <th>4</th>\n",
       "      <td>ABBV</td>\n",
       "      <td>189.93</td>\n",
       "      <td>3.354809e+11</td>\n",
       "      <td>0</td>\n",
       "    </tr>\n",
       "    <tr>\n",
       "      <th>...</th>\n",
       "      <td>...</td>\n",
       "      <td>...</td>\n",
       "      <td>...</td>\n",
       "      <td>...</td>\n",
       "    </tr>\n",
       "    <tr>\n",
       "      <th>500</th>\n",
       "      <td>YUM</td>\n",
       "      <td>136.79</td>\n",
       "      <td>3.846056e+10</td>\n",
       "      <td>0</td>\n",
       "    </tr>\n",
       "    <tr>\n",
       "      <th>501</th>\n",
       "      <td>ZBH</td>\n",
       "      <td>108.08</td>\n",
       "      <td>2.201071e+10</td>\n",
       "      <td>0</td>\n",
       "    </tr>\n",
       "    <tr>\n",
       "      <th>502</th>\n",
       "      <td>ZBRA</td>\n",
       "      <td>319.95</td>\n",
       "      <td>1.650315e+10</td>\n",
       "      <td>0</td>\n",
       "    </tr>\n",
       "    <tr>\n",
       "      <th>503</th>\n",
       "      <td>ZION</td>\n",
       "      <td>45.95</td>\n",
       "      <td>6.786677e+09</td>\n",
       "      <td>0</td>\n",
       "    </tr>\n",
       "    <tr>\n",
       "      <th>504</th>\n",
       "      <td>ZTS</td>\n",
       "      <td>185.25</td>\n",
       "      <td>8.392770e+10</td>\n",
       "      <td>0</td>\n",
       "    </tr>\n",
       "  </tbody>\n",
       "</table>\n",
       "<p>505 rows × 4 columns</p>\n",
       "</div>"
      ],
      "text/plain": [
       "    Ticker  Stock Price  Market Capitalization  Stocks to Buy\n",
       "0        A       136.90           3.994208e+10              0\n",
       "1      AAL         9.86           6.475101e+09              0\n",
       "2      AAP        60.21           3.589859e+09              0\n",
       "3     AAPL       216.24           3.287735e+12              0\n",
       "4     ABBV       189.93           3.354809e+11              0\n",
       "..     ...          ...                    ...            ...\n",
       "500    YUM       136.79           3.846056e+10              0\n",
       "501    ZBH       108.08           2.201071e+10              0\n",
       "502   ZBRA       319.95           1.650315e+10              0\n",
       "503   ZION        45.95           6.786677e+09              0\n",
       "504    ZTS       185.25           8.392770e+10              0\n",
       "\n",
       "[505 rows x 4 columns]"
      ]
     },
     "execution_count": 48,
     "metadata": {},
     "output_type": "execute_result"
    }
   ],
   "source": [
    "data"
   ]
  },
  {
   "cell_type": "markdown",
   "metadata": {},
   "source": [
    "Check for `None` values."
   ]
  },
  {
   "cell_type": "code",
   "execution_count": 49,
   "metadata": {},
   "outputs": [
    {
     "name": "stdout",
     "output_type": "stream",
     "text": [
      "Ticker                    0\n",
      "Stock Price              42\n",
      "Market Capitalization    44\n",
      "Stocks to Buy             0\n",
      "dtype: int64\n"
     ]
    }
   ],
   "source": [
    "print(data.isna().sum())"
   ]
  },
  {
   "cell_type": "markdown",
   "metadata": {},
   "source": [
    "Check the stocks with `None` rows."
   ]
  },
  {
   "cell_type": "code",
   "execution_count": 50,
   "metadata": {},
   "outputs": [
    {
     "name": "stdout",
     "output_type": "stream",
     "text": [
      "    Ticker  Stock Price  Market Capitalization  Stocks to Buy\n",
      "5      ABC          NaN                    NaN              0\n",
      "6     ABMD          NaN                    NaN              0\n",
      "28    ALXN          NaN                    NaN              0\n",
      "39    ANTM          NaN                    NaN              0\n",
      "48    ATVI          NaN                    NaN              0\n",
      "61    BF.B          NaN                    NaN              0\n",
      "68     BLL          NaN                    NaN              0\n",
      "71   BRK.B          NaN                    NaN              0\n",
      "88    CERN          NaN                    NaN              0\n",
      "107    COG          NaN                    NaN              0\n",
      "118    CTL          NaN                    NaN              0\n",
      "121   CTXS          NaN                    NaN              0\n",
      "124    CXO          NaN                    NaN              0\n",
      "135  DISCA          NaN                    NaN              0\n",
      "136  DISCK          NaN                    NaN              0\n",
      "137   DISH          NaN                    NaN              0\n",
      "143    DRE          NaN                    NaN              0\n",
      "165   ETFC          NaN                    NaN              0\n",
      "177     FB          NaN                    NaN              0\n",
      "178   FBHS          NaN                    NaN              0\n",
      "184   FISV       114.23                    NaN              0\n",
      "186   FLIR          NaN                    NaN              0\n",
      "188    FLT          NaN                    NaN              0\n",
      "192    FRC          NaN                    NaN              0\n",
      "219    HFC          NaN                    NaN              0\n",
      "241   INFO          NaN                    NaN              0\n",
      "273    KSU          NaN                    NaN              0\n",
      "325   MXIM          NaN                    NaN              0\n",
      "326    MYL          NaN                    NaN              0\n",
      "327    NBL          NaN                    NaN              0\n",
      "335   NLOK          NaN                    NaN              0\n",
      "336   NLSN          NaN                    NaN              0\n",
      "360   PBCT          NaN                    NaN              0\n",
      "362   PEAK          NaN                    NaN              0\n",
      "372    PKI          NaN                    NaN              0\n",
      "386    PXD          NaN                    NaN              0\n",
      "391     RE          NaN                    NaN              0\n",
      "410   SIVB       106.04                    NaN              0\n",
      "437    TIF          NaN                    NaN              0\n",
      "448   TWTR          NaN                    NaN              0\n",
      "465    VAR          NaN                    NaN              0\n",
      "467   VIAC          NaN                    NaN              0\n",
      "484   WLTW          NaN                    NaN              0\n",
      "495   XLNX          NaN                    NaN              0\n"
     ]
    }
   ],
   "source": [
    "# Find rows where any value is NaN\n",
    "rows_with_nan = data[data.isna().any(axis=1)]\n",
    "\n",
    "# Print rows with NaN values\n",
    "print(rows_with_nan)"
   ]
  },
  {
   "cell_type": "markdown",
   "metadata": {},
   "source": [
    "Create a copy of the original dataframe so that we don't manipulate the original dataframe."
   ]
  },
  {
   "cell_type": "code",
   "execution_count": 70,
   "metadata": {},
   "outputs": [],
   "source": [
    "final_df = data.copy(deep=True)"
   ]
  },
  {
   "cell_type": "markdown",
   "metadata": {},
   "source": [
    "Drop `None` values."
   ]
  },
  {
   "cell_type": "code",
   "execution_count": 71,
   "metadata": {},
   "outputs": [],
   "source": [
    "# Assuming final_df is your DataFrame\n",
    "final_df = final_df.dropna()\n",
    "\n",
    "# Reset the index and drop the old index column\n",
    "final_df = final_df.reset_index(drop=True)"
   ]
  },
  {
   "cell_type": "code",
   "execution_count": 72,
   "metadata": {},
   "outputs": [
    {
     "name": "stdout",
     "output_type": "stream",
     "text": [
      "Ticker                   0\n",
      "Stock Price              0\n",
      "Market Capitalization    0\n",
      "Stocks to Buy            0\n",
      "dtype: int64\n",
      "Empty DataFrame\n",
      "Columns: [Ticker, Stock Price, Market Capitalization, Stocks to Buy]\n",
      "Index: []\n"
     ]
    }
   ],
   "source": [
    "print(final_df.isna().sum())\n",
    "rows_with_nan = final_df[final_df.isna().any(axis=1)]\n",
    "print(rows_with_nan)"
   ]
  },
  {
   "cell_type": "markdown",
   "metadata": {},
   "source": [
    "## Calculating the Number of Shares to Buy"
   ]
  },
  {
   "cell_type": "markdown",
   "metadata": {},
   "source": [
    "This represents the total amount of money you have to invest. In this case, it's $100,000."
   ]
  },
  {
   "cell_type": "code",
   "execution_count": 74,
   "metadata": {},
   "outputs": [],
   "source": [
    "portfolio_size = 100000"
   ]
  },
  {
   "cell_type": "markdown",
   "metadata": {},
   "source": [
    "You want to evenly distribute your total investment amount (portfolio_size) across all the stocks.\n",
    "- `len(final_df.index)` gives you the number of stocks in your DataFrame.\n",
    "- `position_size` is the amount of money you will allocate to each stock. It's calculated by dividing the total portfolio size by the number of stocks"
   ]
  },
  {
   "cell_type": "code",
   "execution_count": 75,
   "metadata": {},
   "outputs": [],
   "source": [
    "position_size = portfolio_size/len(final_df.index)"
   ]
  },
  {
   "cell_type": "markdown",
   "metadata": {},
   "source": [
    "For each stock, you want to determine how many shares you can buy with the allocated amount (`position_size`).\n",
    "\n",
    "`position_size // final_df['Stock Price']` calculates the number of shares you can buy of each stock with the allocated amount."
   ]
  },
  {
   "cell_type": "code",
   "execution_count": 76,
   "metadata": {},
   "outputs": [],
   "source": [
    "final_df['Stocks to Buy'] = position_size // final_df['Stock Price']"
   ]
  },
  {
   "cell_type": "markdown",
   "metadata": {},
   "source": [
    "## Final Output"
   ]
  },
  {
   "cell_type": "code",
   "execution_count": 77,
   "metadata": {},
   "outputs": [
    {
     "data": {
      "text/html": [
       "<div>\n",
       "<style scoped>\n",
       "    .dataframe tbody tr th:only-of-type {\n",
       "        vertical-align: middle;\n",
       "    }\n",
       "\n",
       "    .dataframe tbody tr th {\n",
       "        vertical-align: top;\n",
       "    }\n",
       "\n",
       "    .dataframe thead th {\n",
       "        text-align: right;\n",
       "    }\n",
       "</style>\n",
       "<table border=\"1\" class=\"dataframe\">\n",
       "  <thead>\n",
       "    <tr style=\"text-align: right;\">\n",
       "      <th></th>\n",
       "      <th>Ticker</th>\n",
       "      <th>Stock Price</th>\n",
       "      <th>Market Capitalization</th>\n",
       "      <th>Stocks to Buy</th>\n",
       "    </tr>\n",
       "  </thead>\n",
       "  <tbody>\n",
       "    <tr>\n",
       "      <th>0</th>\n",
       "      <td>A</td>\n",
       "      <td>136.90</td>\n",
       "      <td>3.994208e+10</td>\n",
       "      <td>1.0</td>\n",
       "    </tr>\n",
       "    <tr>\n",
       "      <th>1</th>\n",
       "      <td>AAL</td>\n",
       "      <td>9.86</td>\n",
       "      <td>6.475101e+09</td>\n",
       "      <td>21.0</td>\n",
       "    </tr>\n",
       "    <tr>\n",
       "      <th>2</th>\n",
       "      <td>AAP</td>\n",
       "      <td>60.21</td>\n",
       "      <td>3.589859e+09</td>\n",
       "      <td>3.0</td>\n",
       "    </tr>\n",
       "    <tr>\n",
       "      <th>3</th>\n",
       "      <td>AAPL</td>\n",
       "      <td>216.24</td>\n",
       "      <td>3.287735e+12</td>\n",
       "      <td>1.0</td>\n",
       "    </tr>\n",
       "    <tr>\n",
       "      <th>4</th>\n",
       "      <td>ABBV</td>\n",
       "      <td>189.93</td>\n",
       "      <td>3.354809e+11</td>\n",
       "      <td>1.0</td>\n",
       "    </tr>\n",
       "    <tr>\n",
       "      <th>...</th>\n",
       "      <td>...</td>\n",
       "      <td>...</td>\n",
       "      <td>...</td>\n",
       "      <td>...</td>\n",
       "    </tr>\n",
       "    <tr>\n",
       "      <th>456</th>\n",
       "      <td>YUM</td>\n",
       "      <td>136.79</td>\n",
       "      <td>3.846056e+10</td>\n",
       "      <td>1.0</td>\n",
       "    </tr>\n",
       "    <tr>\n",
       "      <th>457</th>\n",
       "      <td>ZBH</td>\n",
       "      <td>108.08</td>\n",
       "      <td>2.201071e+10</td>\n",
       "      <td>2.0</td>\n",
       "    </tr>\n",
       "    <tr>\n",
       "      <th>458</th>\n",
       "      <td>ZBRA</td>\n",
       "      <td>319.95</td>\n",
       "      <td>1.650315e+10</td>\n",
       "      <td>0.0</td>\n",
       "    </tr>\n",
       "    <tr>\n",
       "      <th>459</th>\n",
       "      <td>ZION</td>\n",
       "      <td>45.95</td>\n",
       "      <td>6.786677e+09</td>\n",
       "      <td>4.0</td>\n",
       "    </tr>\n",
       "    <tr>\n",
       "      <th>460</th>\n",
       "      <td>ZTS</td>\n",
       "      <td>185.25</td>\n",
       "      <td>8.392770e+10</td>\n",
       "      <td>1.0</td>\n",
       "    </tr>\n",
       "  </tbody>\n",
       "</table>\n",
       "<p>461 rows × 4 columns</p>\n",
       "</div>"
      ],
      "text/plain": [
       "    Ticker  Stock Price  Market Capitalization  Stocks to Buy\n",
       "0        A       136.90           3.994208e+10            1.0\n",
       "1      AAL         9.86           6.475101e+09           21.0\n",
       "2      AAP        60.21           3.589859e+09            3.0\n",
       "3     AAPL       216.24           3.287735e+12            1.0\n",
       "4     ABBV       189.93           3.354809e+11            1.0\n",
       "..     ...          ...                    ...            ...\n",
       "456    YUM       136.79           3.846056e+10            1.0\n",
       "457    ZBH       108.08           2.201071e+10            2.0\n",
       "458   ZBRA       319.95           1.650315e+10            0.0\n",
       "459   ZION        45.95           6.786677e+09            4.0\n",
       "460    ZTS       185.25           8.392770e+10            1.0\n",
       "\n",
       "[461 rows x 4 columns]"
      ]
     },
     "execution_count": 77,
     "metadata": {},
     "output_type": "execute_result"
    }
   ],
   "source": [
    "final_df"
   ]
  },
  {
   "cell_type": "markdown",
   "metadata": {},
   "source": [
    "From the above dataframe, we can see the column `Stocks to Buy` which tells us the number of stocks to buy with allocatde portfolio in SP500 stocks."
   ]
  },
  {
   "cell_type": "markdown",
   "metadata": {},
   "source": []
  }
 ],
 "metadata": {
  "kernelspec": {
   "display_name": "Python 3",
   "language": "python",
   "name": "python3"
  },
  "language_info": {
   "codemirror_mode": {
    "name": "ipython",
    "version": 3
   },
   "file_extension": ".py",
   "mimetype": "text/x-python",
   "name": "python",
   "nbconvert_exporter": "python",
   "pygments_lexer": "ipython3",
   "version": "3.11.9"
  }
 },
 "nbformat": 4,
 "nbformat_minor": 2
}
